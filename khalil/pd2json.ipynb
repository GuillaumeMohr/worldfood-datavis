{
 "cells": [
  {
   "cell_type": "code",
   "execution_count": 1,
   "metadata": {
    "collapsed": true
   },
   "outputs": [],
   "source": [
    "import numpy as np\n",
    "import pandas as pd"
   ]
  },
  {
   "cell_type": "code",
   "execution_count": 2,
   "metadata": {
    "collapsed": false
   },
   "outputs": [],
   "source": [
    "X=[['root','aggI','1','a'],['root','aggI','2','b'],['root','aggI','2','c'],['root','aggII','3','d'],['root','aggII','3','e'],['root','aggIII','4','f'],['root','aggIII','5','g'],['root','aggIII','5','h'],['root','aggIII','6','i']]\n",
    "\n",
    "X = np.reshape(X,(9,4))"
   ]
  },
  {
   "cell_type": "code",
   "execution_count": 3,
   "metadata": {
    "collapsed": false
   },
   "outputs": [],
   "source": [
    "df = pd.DataFrame(columns=['root','Agg1','Agg2','pdt'],data=X)"
   ]
  },
  {
   "cell_type": "code",
   "execution_count": 4,
   "metadata": {
    "collapsed": false
   },
   "outputs": [
    {
     "data": {
      "text/html": [
       "<div>\n",
       "<table border=\"1\" class=\"dataframe\">\n",
       "  <thead>\n",
       "    <tr style=\"text-align: right;\">\n",
       "      <th></th>\n",
       "      <th>root</th>\n",
       "      <th>Agg1</th>\n",
       "      <th>Agg2</th>\n",
       "      <th>pdt</th>\n",
       "    </tr>\n",
       "  </thead>\n",
       "  <tbody>\n",
       "    <tr>\n",
       "      <th>0</th>\n",
       "      <td>root</td>\n",
       "      <td>aggI</td>\n",
       "      <td>1</td>\n",
       "      <td>a</td>\n",
       "    </tr>\n",
       "    <tr>\n",
       "      <th>1</th>\n",
       "      <td>root</td>\n",
       "      <td>aggI</td>\n",
       "      <td>2</td>\n",
       "      <td>b</td>\n",
       "    </tr>\n",
       "    <tr>\n",
       "      <th>2</th>\n",
       "      <td>root</td>\n",
       "      <td>aggI</td>\n",
       "      <td>2</td>\n",
       "      <td>c</td>\n",
       "    </tr>\n",
       "    <tr>\n",
       "      <th>3</th>\n",
       "      <td>root</td>\n",
       "      <td>aggII</td>\n",
       "      <td>3</td>\n",
       "      <td>d</td>\n",
       "    </tr>\n",
       "    <tr>\n",
       "      <th>4</th>\n",
       "      <td>root</td>\n",
       "      <td>aggII</td>\n",
       "      <td>3</td>\n",
       "      <td>e</td>\n",
       "    </tr>\n",
       "    <tr>\n",
       "      <th>5</th>\n",
       "      <td>root</td>\n",
       "      <td>aggIII</td>\n",
       "      <td>4</td>\n",
       "      <td>f</td>\n",
       "    </tr>\n",
       "    <tr>\n",
       "      <th>6</th>\n",
       "      <td>root</td>\n",
       "      <td>aggIII</td>\n",
       "      <td>5</td>\n",
       "      <td>g</td>\n",
       "    </tr>\n",
       "    <tr>\n",
       "      <th>7</th>\n",
       "      <td>root</td>\n",
       "      <td>aggIII</td>\n",
       "      <td>5</td>\n",
       "      <td>h</td>\n",
       "    </tr>\n",
       "    <tr>\n",
       "      <th>8</th>\n",
       "      <td>root</td>\n",
       "      <td>aggIII</td>\n",
       "      <td>6</td>\n",
       "      <td>i</td>\n",
       "    </tr>\n",
       "  </tbody>\n",
       "</table>\n",
       "</div>"
      ],
      "text/plain": [
       "   root    Agg1 Agg2 pdt\n",
       "0  root    aggI    1   a\n",
       "1  root    aggI    2   b\n",
       "2  root    aggI    2   c\n",
       "3  root   aggII    3   d\n",
       "4  root   aggII    3   e\n",
       "5  root  aggIII    4   f\n",
       "6  root  aggIII    5   g\n",
       "7  root  aggIII    5   h\n",
       "8  root  aggIII    6   i"
      ]
     },
     "execution_count": 4,
     "metadata": {},
     "output_type": "execute_result"
    }
   ],
   "source": [
    "df.head(10)"
   ]
  },
  {
   "cell_type": "code",
   "execution_count": 5,
   "metadata": {
    "collapsed": false
   },
   "outputs": [],
   "source": [
    "import pdb\n",
    "json_string = \"\"\n",
    "\n",
    "# start with the low level aggregation\n",
    "#for label,x in df.groupby(['Agg2']):    # label: aggregation index\n",
    "#    tmpDF = x[1]\n",
    "    \n",
    "#    pdb.set_trace()\n",
    "    "
   ]
  },
  {
   "cell_type": "code",
   "execution_count": 6,
   "metadata": {
    "collapsed": false
   },
   "outputs": [
    {
     "ename": "SyntaxError",
     "evalue": "invalid syntax (<ipython-input-6-76e984b3834b>, line 12)",
     "output_type": "error",
     "traceback": [
      "\u001b[1;36m  File \u001b[1;32m\"<ipython-input-6-76e984b3834b>\"\u001b[1;36m, line \u001b[1;32m12\u001b[0m\n\u001b[1;33m    dic[pos][]\u001b[0m\n\u001b[1;37m             ^\u001b[0m\n\u001b[1;31mSyntaxError\u001b[0m\u001b[1;31m:\u001b[0m invalid syntax\n"
     ]
    }
   ],
   "source": [
    "class Person(object):\n",
    "    def __init__(self,pos):\n",
    "        #self.name=dict\n",
    "        self.json=dict()\n",
    "    def addLeaf(leaf):\n",
    "        dk\n",
    "        \n",
    "def addNode(node,dic,pos):\n",
    "    for i in range(0,pos):\n",
    "        dic[i]\n",
    "    if (node in dic[pos]):\n",
    "        dic[pos][]\n",
    "    else:\n",
    "        dic\n",
    "            \n",
    "        \n",
    "        \n",
    "        \n",
    "mystructure=Person('name':\"root\",'children':'lastname')"
   ]
  },
  {
   "cell_type": "code",
   "execution_count": 7,
   "metadata": {
    "collapsed": false
   },
   "outputs": [],
   "source": [
    "#orig_dict = [{'name': 'root', 'children': [{'name': 'AggI', 'children': [{}]},{'name': 'AggIII', 'children': [{}]} ,{'name': 'AggII', 'children': [{}]}]}]\n",
    "orig_dict = [{'name': 'root', 'children':[{}]}]\n",
    "import pdb\n",
    "def addNode(line):\n",
    "    tmp_dict = orig_dict\n",
    "    \n",
    "    for pos,col in enumerate(line):\n",
    "        #pdb.set_trace()\n",
    "        testFindNode = False\n",
    "        if tmp_dict == [{}] and pos != len(line)-1:\n",
    "            tmp_dict[0][\"name\"] = col\n",
    "            tmp_dict[0][\"children\"]=[{}]\n",
    "        if pos == len(line)-1 and tmp_dict == [{}]:\n",
    "            tmp_dict[0][\"name\"] = col\n",
    "            tmp_dict[0][\"size\"] = 1250\n",
    "        elif pos == len(line)-1 and tmp_dict != [{}]:\n",
    "            tmp_dict.append({\"name\":col,\"size\":1250})\n",
    "                #tmp_dict[0][\"size\"]=1250\n",
    "            \n",
    "                \n",
    "        #pdb.set_trace()\n",
    "        \n",
    "        if pos != len(line)-1:\n",
    "            for dic in tmp_dict:         # parcourir tous les dict de children\n",
    "                if col == dic[\"name\"]:\n",
    "                    tmp_dict = dic[\"children\"] # list_dict: list of dictionaries contained in \"children\"\n",
    "                    testFindNode = True\n",
    "                    break\n",
    "            if testFindNode==False:\n",
    "\n",
    "                tmp_dict.append({\"name\":col,\"children\":[{}]})\n",
    "                tmp_dict = tmp_dict[len(tmp_dict)-1][\"children\"]  # pointer sur le dernier element qu'on vient de creer\n",
    "\n",
    "addNode(['root','aggI','1','a'])\n",
    "addNode(['root','aggI','1','b'])\n",
    "addNode(['root','aggII','2','c'])"
   ]
  },
  {
   "cell_type": "code",
   "execution_count": 8,
   "metadata": {
    "collapsed": false
   },
   "outputs": [],
   "source": [
    "orig_dict = [{'name': 'root', 'children':[{}]}]\n",
    "#print orig_dict[0][\"children\"][0]"
   ]
  },
  {
   "cell_type": "code",
   "execution_count": 9,
   "metadata": {
    "collapsed": false
   },
   "outputs": [
    {
     "data": {
      "text/plain": [
       "0    None\n",
       "1    None\n",
       "2    None\n",
       "3    None\n",
       "4    None\n",
       "5    None\n",
       "6    None\n",
       "7    None\n",
       "8    None\n",
       "dtype: object"
      ]
     },
     "execution_count": 9,
     "metadata": {},
     "output_type": "execute_result"
    }
   ],
   "source": [
    "df.apply(addNode,axis=1)"
   ]
  },
  {
   "cell_type": "code",
   "execution_count": 10,
   "metadata": {
    "collapsed": false
   },
   "outputs": [
    {
     "name": "stdout",
     "output_type": "stream",
     "text": [
      "[{'name': 'root', 'children': [{'name': 'aggI', 'children': [{'name': '1', 'children': [{'name': 'a', 'size': 1250}]}, {'name': '2', 'children': [{'name': 'b', 'size': 1250}, {'name': 'c', 'size': 1250}]}]}, {'name': 'aggII', 'children': [{'name': '3', 'children': [{'name': 'd', 'size': 1250}, {'name': 'e', 'size': 1250}]}]}, {'name': 'aggIII', 'children': [{'name': '4', 'children': [{'name': 'f', 'size': 1250}]}, {'name': '5', 'children': [{'name': 'g', 'size': 1250}, {'name': 'h', 'size': 1250}]}, {'name': '6', 'children': [{'name': 'i', 'size': 1250}]}]}]}]\n"
     ]
    }
   ],
   "source": [
    "print orig_dict"
   ]
  },
  {
   "cell_type": "code",
   "execution_count": 11,
   "metadata": {
    "collapsed": false
   },
   "outputs": [
    {
     "name": "stdout",
     "output_type": "stream",
     "text": [
      "<type 'dict'>\n"
     ]
    }
   ],
   "source": [
    "print type(orig_dict[0])"
   ]
  },
  {
   "cell_type": "code",
   "execution_count": 13,
   "metadata": {
    "collapsed": false
   },
   "outputs": [],
   "source": [
    "import json\n",
    "#res = json.dumps(orig_dict[0], ensure_ascii=False)\n",
    "with open('data.json', 'w') as outfile:\n",
    "    json.dump(orig_dict[0], outfile)"
   ]
  },
  {
   "cell_type": "code",
   "execution_count": 14,
   "metadata": {
    "collapsed": false
   },
   "outputs": [
    {
     "name": "stdout",
     "output_type": "stream",
     "text": [
      "root\n",
      "AggI\n"
     ]
    },
    {
     "ename": "KeyError",
     "evalue": "0",
     "output_type": "error",
     "traceback": [
      "\u001b[1;31m---------------------------------------------------------------------------\u001b[0m",
      "\u001b[1;31mKeyError\u001b[0m                                  Traceback (most recent call last)",
      "\u001b[1;32m<ipython-input-14-60a6ac761f10>\u001b[0m in \u001b[0;36m<module>\u001b[1;34m()\u001b[0m\n\u001b[0;32m      3\u001b[0m \u001b[1;32mprint\u001b[0m \u001b[0mtest_dic\u001b[0m\u001b[1;33m[\u001b[0m\u001b[1;34m\"children\"\u001b[0m\u001b[1;33m]\u001b[0m\u001b[1;33m[\u001b[0m\u001b[1;36m0\u001b[0m\u001b[1;33m]\u001b[0m\u001b[1;33m[\u001b[0m\u001b[1;34m\"name\"\u001b[0m\u001b[1;33m]\u001b[0m\u001b[1;33m\u001b[0m\u001b[0m\n\u001b[0;32m      4\u001b[0m \u001b[1;33m\u001b[0m\u001b[0m\n\u001b[1;32m----> 5\u001b[1;33m \u001b[1;32mprint\u001b[0m \u001b[1;34m\"name\"\u001b[0m \u001b[1;32min\u001b[0m \u001b[0mtest_dic\u001b[0m\u001b[1;33m[\u001b[0m\u001b[1;36m0\u001b[0m\u001b[1;33m]\u001b[0m\u001b[1;33m.\u001b[0m\u001b[0mkeys\u001b[0m\u001b[1;33m(\u001b[0m\u001b[1;33m)\u001b[0m\u001b[1;33m\u001b[0m\u001b[0m\n\u001b[0m",
      "\u001b[1;31mKeyError\u001b[0m: 0"
     ]
    }
   ],
   "source": [
    "test_dic = {\"name\":\"root\",\"children\":[{\"name\":\"AggI\",\"children\":\"1\"},{\"name\":\"AggII\",\"children\":\"2\"}]}\n",
    "print test_dic[\"name\"]\n",
    "print test_dic[\"children\"][0][\"name\"]\n",
    "\n",
    "print \"name\" in test_dic[0].keys()"
   ]
  },
  {
   "cell_type": "code",
   "execution_count": 24,
   "metadata": {
    "collapsed": false
   },
   "outputs": [
    {
     "data": {
      "text/plain": [
       "{'root': {'aggI': {'1': 'a', '2': 'b'},\n",
       "  'aggII': {'3': 'd'},\n",
       "  'aggIII': {'4': 'f', '5': 'g', '6': 'i'}}}"
      ]
     },
     "execution_count": 24,
     "metadata": {},
     "output_type": "execute_result"
    }
   ],
   "source": [
    "\n",
    "def fdrec(df):\n",
    "    drec = dict()\n",
    "    ncols = df.values.shape[1]\n",
    "    for line in df.values:\n",
    "        #pdb.set_trace()\n",
    "        d = drec\n",
    "        for j, col in enumerate(line[:-1]):\n",
    "            if not col in d.keys():\n",
    "                if j != ncols-2:\n",
    "                    d[col] = {}\n",
    "                    d = d[col]\n",
    "                else:\n",
    "                    d[col] = line[-1]\n",
    "            else:\n",
    "                if j!= ncols-2:\n",
    "                    d = d[col]\n",
    "    return drec\n",
    "\n",
    "fdrec(df)"
   ]
  },
  {
   "cell_type": "code",
   "execution_count": null,
   "metadata": {
    "collapsed": true
   },
   "outputs": [],
   "source": []
  }
 ],
 "metadata": {
  "kernelspec": {
   "display_name": "Python 2",
   "language": "python",
   "name": "python2"
  },
  "language_info": {
   "codemirror_mode": {
    "name": "ipython",
    "version": 2
   },
   "file_extension": ".py",
   "mimetype": "text/x-python",
   "name": "python",
   "nbconvert_exporter": "python",
   "pygments_lexer": "ipython2",
   "version": "2.7.11"
  }
 },
 "nbformat": 4,
 "nbformat_minor": 0
}
