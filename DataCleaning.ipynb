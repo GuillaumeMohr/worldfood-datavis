{
 "cells": [
  {
   "cell_type": "markdown",
   "metadata": {},
   "source": [
    "# Cleaning"
   ]
  },
  {
   "cell_type": "code",
   "execution_count": 1,
   "metadata": {
    "collapsed": true
   },
   "outputs": [],
   "source": [
    "import numpy as np\n",
    "import pandas as pd\n",
    "import seaborn as sns\n",
    "import matplotlib.pyplot as plt\n",
    "%matplotlib inline"
   ]
  },
  {
   "cell_type": "markdown",
   "metadata": {},
   "source": [
    "### Manufacturing places for products sold in France"
   ]
  },
  {
   "cell_type": "code",
   "execution_count": 2,
   "metadata": {
    "collapsed": false
   },
   "outputs": [
    {
     "name": "stderr",
     "output_type": "stream",
     "text": [
      "/home/guillaume/anaconda3/lib/python3.5/site-packages/IPython/core/interactiveshell.py:2723: DtypeWarning: Columns (0,3,5,27,36) have mixed types. Specify dtype option on import or set low_memory=False.\n",
      "  interactivity=interactivity, compiler=compiler, result=result)\n"
     ]
    },
    {
     "name": "stdout",
     "output_type": "stream",
     "text": [
      "Initial number of products: 80501\n",
      "Number of products sold to a known country and known manufacturing places: 25215\n",
      "Number of products sold in France (and potentially other countries too): 17683\n"
     ]
    }
   ],
   "source": [
    "# read data\n",
    "data = pd.read_table('../en.openfoodfacts.org.products.csv', sep='\\t')\n",
    "print('Initial number of products: {}'.format(len(data)))\n",
    "# removing rows with unknown countries and unknown manufacturing places\n",
    "data.dropna(subset=['countries_en', 'manufacturing_places'], inplace=True)\n",
    "print('Number of products sold to a known country and known manufacturing places: {}'.format(len(data)))\n",
    "# keep only products sold in France\n",
    "# (including products sold in France and other countries)\n",
    "data = data[data.countries_en.dropna().str.match(r'.*france.*', case=False)]\n",
    "print('Number of products sold in France (and potentially other countries too): {}'.format(len(data)))"
   ]
  },
  {
   "cell_type": "code",
   "execution_count": 3,
   "metadata": {
    "collapsed": false
   },
   "outputs": [
    {
     "data": {
      "text/plain": [
       "3119"
      ]
     },
     "execution_count": 3,
     "metadata": {},
     "output_type": "execute_result"
    }
   ],
   "source": [
    "# creates manufacturing_country from manufacturing_place\n",
    "len(data.manufacturing_places.unique())"
   ]
  },
  {
   "cell_type": "code",
   "execution_count": 4,
   "metadata": {
    "collapsed": false
   },
   "outputs": [
    {
     "data": {
      "text/plain": [
       "2985"
      ]
     },
     "execution_count": 4,
     "metadata": {},
     "output_type": "execute_result"
    }
   ],
   "source": [
    "# creates manufacturing_country from manufacturing_place\n",
    "len(data.manufacturing_places_tags.unique())"
   ]
  },
  {
   "cell_type": "code",
   "execution_count": 5,
   "metadata": {
    "collapsed": false
   },
   "outputs": [],
   "source": [
    "data['manufacturing_country'] = data.manufacturing_places.str.lower()\n",
    "special_char = {\n",
    "    'é': 'e',\n",
    "    'è': 'e',\n",
    "    'ë': 'e',\n",
    "    'ñ': 'n',\n",
    "    'ï': 'i',\n",
    "    'ô': 'o',\n",
    "}\n",
    "for sp_char, char in special_char.items():\n",
    "    data['manufacturing_country'] = data.manufacturing_country.str.replace(sp_char, char)\n",
    "    \n",
    "to_replace = [# regex -> country, we keep a list and not a dic because order is important\n",
    "    (r'france|francia|frankreich', 'france'),\n",
    "    (r'allemagne|deutschland|germany', 'allemagne'),\n",
    "    (r'portugal', 'portugal'),\n",
    "    (r'belgique', 'belgique'),\n",
    "    (r'suisse', 'suisse'),\n",
    "    (r'ital[iy]', 'italie'),\n",
    "    (r'ecosse|angleterre|england|royaume[ -]uni|united[ -]kingdom|grande[ -]bretagne', 'royaume-uni'),\n",
    "    (r'irland', 'irlande'),\n",
    "    (r'chin[ea]', 'chine'),\n",
    "    (r'jap[ao]n', 'japon'),\n",
    "    (r'tcheque', 'tcheque'),\n",
    "    (r'espagne|espana', 'espagne'),\n",
    "    (r'switzerland', 'suisse'),\n",
    "    (r'coree', 'coree'),\n",
    "    (r'grece', 'grece'),\n",
    "    (r'sloveni', 'slovenie'),\n",
    "    (r'pays[ -]bas', 'pays-bas'),\n",
    "    (r'thailand', 'thailande'),\n",
    "    (r'viet ?nam', 'viet nam'),\n",
    "    (r'mexic', 'mexique'),    \n",
    "    (r'bretagne', 'france'), # needs to be AFTER \"grande[ -]bretagne\" !!\n",
    "    (r'corse|vendee|alsace|vezelay|provence|ardeche|savoie|auvergne|lozere|strasbourg', 'france'),\n",
    "    (r'pyrenee|centre|grenade|vosges|normandie|villeneuve|clohars|marseille', 'france'),\n",
    "    (r'.*u[\\.]?s[\\.]?a.*', 'etats-unis'),\n",
    "    (r'.*la reunion.*', 'reunion'),\n",
    "    (r'.*maurice.*', 'maurice'),\n",
    "    (r'.*europe.*', 'union europeenne'), # keep at the end\n",
    "    (r'.*u\\.e[\\.]?.*', 'union europeenne'), # keep at the end\n",
    "]\n",
    "\n",
    "for regex, country in to_replace:\n",
    "    data.ix[data.manufacturing_country.str.contains(regex, case=False), 'manufacturing_country'] = country\n",
    "    \n",
    "# removing \"union europeenne\" since we do not know the precise country\n",
    "data = data.ix[data.manufacturing_country != \"union europeenne\"]\n",
    "\n",
    "# we cut lines that have less than 3 products\n",
    "mc_counts = pd.DataFrame(data.manufacturing_country.value_counts() >= 3)\n",
    "data_merge = data.merge(mc_counts, how='left', left_on='manufacturing_country', right_index=True, suffixes=('', '_to_keep'))\n",
    "data = data[data_merge.manufacturing_country_to_keep]"
   ]
  },
  {
   "cell_type": "code",
   "execution_count": 6,
   "metadata": {
    "collapsed": false,
    "scrolled": true
   },
   "outputs": [
    {
     "data": {
      "text/plain": [
       "france            12957\n",
       "italie             1009\n",
       "allemagne           596\n",
       "belgique            583\n",
       "espagne             385\n",
       "pays-bas            262\n",
       "royaume-uni         198\n",
       "suisse              150\n",
       "thailande           135\n",
       "chine               104\n",
       "portugal             65\n",
       "maroc                56\n",
       "pologne              49\n",
       "grece                48\n",
       "suede                29\n",
       "japon                29\n",
       "danemark             27\n",
       "viet nam             26\n",
       "turquie              23\n",
       "etats-unis           21\n",
       "tunisie              19\n",
       "autriche             17\n",
       "taiwan               15\n",
       "luxembourg           15\n",
       "malaisie             14\n",
       "coree                13\n",
       "irlande              13\n",
       "reunion              12\n",
       "israel               12\n",
       "tcheque              12\n",
       "mexique              11\n",
       "norvege              10\n",
       "canada                9\n",
       "cote d'ivoire         9\n",
       "islande               9\n",
       "maurice               9\n",
       "hongrie               8\n",
       "afrique du sud        8\n",
       "lituanie              7\n",
       "inde                  6\n",
       "sri lanka             5\n",
       "algerie               5\n",
       "ghana                 5\n",
       "perou                 4\n",
       "philippines           4\n",
       "equateur              4\n",
       "bulgarie              3\n",
       "roumanie              3\n",
       "bresil                3\n",
       "slovenie              3\n",
       "liban                 3\n",
       "liechtenstein         3\n",
       "slovaquie             3\n",
       "kenya                 3\n",
       "madagascar            3\n",
       "Name: manufacturing_country, dtype: int64"
      ]
     },
     "execution_count": 6,
     "metadata": {},
     "output_type": "execute_result"
    }
   ],
   "source": [
    "data.manufacturing_country.value_counts()"
   ]
  },
  {
   "cell_type": "code",
   "execution_count": 7,
   "metadata": {
    "collapsed": false
   },
   "outputs": [
    {
     "data": {
      "text/html": [
       "<div>\n",
       "<table border=\"1\" class=\"dataframe\">\n",
       "  <thead>\n",
       "    <tr style=\"text-align: right;\">\n",
       "      <th></th>\n",
       "      <th>code</th>\n",
       "      <th>country_fr</th>\n",
       "    </tr>\n",
       "  </thead>\n",
       "  <tbody>\n",
       "    <tr>\n",
       "      <th>0</th>\n",
       "      <td>AFG</td>\n",
       "      <td>afghanistan</td>\n",
       "    </tr>\n",
       "    <tr>\n",
       "      <th>1</th>\n",
       "      <td>ZAF</td>\n",
       "      <td>afrique du sud</td>\n",
       "    </tr>\n",
       "    <tr>\n",
       "      <th>2</th>\n",
       "      <td>ALA</td>\n",
       "      <td>aland</td>\n",
       "    </tr>\n",
       "    <tr>\n",
       "      <th>3</th>\n",
       "      <td>ALB</td>\n",
       "      <td>albanie</td>\n",
       "    </tr>\n",
       "    <tr>\n",
       "      <th>4</th>\n",
       "      <td>DZA</td>\n",
       "      <td>algerie</td>\n",
       "    </tr>\n",
       "  </tbody>\n",
       "</table>\n",
       "</div>"
      ],
      "text/plain": [
       "  code      country_fr\n",
       "0  AFG     afghanistan\n",
       "1  ZAF  afrique du sud\n",
       "2  ALA           aland\n",
       "3  ALB         albanie\n",
       "4  DZA         algerie"
      ]
     },
     "execution_count": 7,
     "metadata": {},
     "output_type": "execute_result"
    }
   ],
   "source": [
    "country_code = pd.read_table('code_original.tsv', sep='\\t', usecols=['alpha-3 ', 'Nom français '])\n",
    "country_code = country_code.rename(columns={'alpha-3 ': 'code', 'Nom français ': 'country_fr'})\n",
    "country_code.dropna(inplace=True)\n",
    "country_code.country_fr = country_code.country_fr.str.strip()\n",
    "country_code.code = country_code.code.str.strip()\n",
    "country_code.country_fr = country_code.country_fr.str.lower()\n",
    "country_code.country_fr = country_code.country_fr.str.split(',').map(lambda x: x[0]) # remove \"republic of\" and others\n",
    "country_code = country_code.ix[country_code.code != \"PRK\"] # drop North Korea\n",
    "special_char = {\n",
    "    'é': 'e',\n",
    "    'è': 'e',\n",
    "    'ë': 'e',\n",
    "    'ñ': 'n',\n",
    "    'ï': 'i',\n",
    "    'ô': 'o',\n",
    "    'å': 'a',\n",
    "    '’': '\\''\n",
    "}\n",
    "for sp_char, char in special_char.items():\n",
    "    country_code.country_fr = country_code.country_fr.str.replace(sp_char, char)\n",
    "\n",
    "country_code.head()"
   ]
  },
  {
   "cell_type": "code",
   "execution_count": 8,
   "metadata": {
    "collapsed": false
   },
   "outputs": [
    {
     "name": "stdout",
     "output_type": "stream",
     "text": [
      "My countries that are not standard :  set()\n"
     ]
    }
   ],
   "source": [
    "set_country_fr = set(country_code.country_fr)\n",
    "set_manufacturing_country = set(data.manufacturing_country)\n",
    "print('My countries that are not standard : ', set_manufacturing_country.difference(set_country_fr))"
   ]
  },
  {
   "cell_type": "code",
   "execution_count": 9,
   "metadata": {
    "collapsed": false
   },
   "outputs": [],
   "source": [
    "# join\n",
    "data = data.merge(country_code, how='left', left_on='manufacturing_country', right_on='country_fr', suffixes=('', '_country'))"
   ]
  },
  {
   "cell_type": "markdown",
   "metadata": {},
   "source": [
    "# Categories "
   ]
  },
  {
   "cell_type": "code",
   "execution_count": 11,
   "metadata": {
    "collapsed": false
   },
   "outputs": [],
   "source": [
    "# uniformization of several names\n",
    "data.ix[data.pnns_groups_1 == 'fruits-and-vegetables', 'pnns_groups_1'] = 'Fruits and vegetables'\n",
    "data.ix[data.pnns_groups_2 == 'fruits', 'pnns_groups_2'] = 'Fruits'\n",
    "data.ix[data.pnns_groups_2 == 'vegetables', 'pnns_groups_2'] = 'Vegetables'\n",
    "data.ix[data.pnns_groups_1 == 'sugary-snacks', 'pnns_groups_1'] = 'Sugary snacks'\n",
    "data.ix[data.pnns_groups_2 == 'pastries', 'pnns_groups_2'] = 'Pastries'"
   ]
  },
  {
   "cell_type": "code",
   "execution_count": 12,
   "metadata": {
    "collapsed": false
   },
   "outputs": [
    {
     "data": {
      "text/html": [
       "<div>\n",
       "<table border=\"1\" class=\"dataframe\">\n",
       "  <thead>\n",
       "    <tr style=\"text-align: right;\">\n",
       "      <th></th>\n",
       "      <th></th>\n",
       "      <th>code</th>\n",
       "    </tr>\n",
       "    <tr>\n",
       "      <th>pnns_groups_1</th>\n",
       "      <th>pnns_groups_2</th>\n",
       "      <th></th>\n",
       "    </tr>\n",
       "  </thead>\n",
       "  <tbody>\n",
       "    <tr>\n",
       "      <th rowspan=\"5\" valign=\"top\">Beverages</th>\n",
       "      <th>Artificially sweetened beverages</th>\n",
       "      <td>26</td>\n",
       "    </tr>\n",
       "    <tr>\n",
       "      <th>Fruit juices</th>\n",
       "      <td>283</td>\n",
       "    </tr>\n",
       "    <tr>\n",
       "      <th>Fruit nectars</th>\n",
       "      <td>61</td>\n",
       "    </tr>\n",
       "    <tr>\n",
       "      <th>Non-sugared beverages</th>\n",
       "      <td>440</td>\n",
       "    </tr>\n",
       "    <tr>\n",
       "      <th>Sweetened beverages</th>\n",
       "      <td>268</td>\n",
       "    </tr>\n",
       "    <tr>\n",
       "      <th rowspan=\"5\" valign=\"top\">Cereals and potatoes</th>\n",
       "      <th>Bread</th>\n",
       "      <td>296</td>\n",
       "    </tr>\n",
       "    <tr>\n",
       "      <th>Breakfast cereals</th>\n",
       "      <td>178</td>\n",
       "    </tr>\n",
       "    <tr>\n",
       "      <th>Cereals</th>\n",
       "      <td>944</td>\n",
       "    </tr>\n",
       "    <tr>\n",
       "      <th>Legumes</th>\n",
       "      <td>99</td>\n",
       "    </tr>\n",
       "    <tr>\n",
       "      <th>Potatoes</th>\n",
       "      <td>30</td>\n",
       "    </tr>\n",
       "    <tr>\n",
       "      <th rowspan=\"3\" valign=\"top\">Composite foods</th>\n",
       "      <th>One-dish meals</th>\n",
       "      <td>1844</td>\n",
       "    </tr>\n",
       "    <tr>\n",
       "      <th>Pizza pies and quiche</th>\n",
       "      <td>90</td>\n",
       "    </tr>\n",
       "    <tr>\n",
       "      <th>Sandwich</th>\n",
       "      <td>241</td>\n",
       "    </tr>\n",
       "    <tr>\n",
       "      <th rowspan=\"2\" valign=\"top\">Fat and sauces</th>\n",
       "      <th>Dressings and sauces</th>\n",
       "      <td>612</td>\n",
       "    </tr>\n",
       "    <tr>\n",
       "      <th>Fats</th>\n",
       "      <td>307</td>\n",
       "    </tr>\n",
       "    <tr>\n",
       "      <th rowspan=\"4\" valign=\"top\">Fish Meat Eggs</th>\n",
       "      <th>Eggs</th>\n",
       "      <td>113</td>\n",
       "    </tr>\n",
       "    <tr>\n",
       "      <th>Fish and seafood</th>\n",
       "      <td>818</td>\n",
       "    </tr>\n",
       "    <tr>\n",
       "      <th>Meat</th>\n",
       "      <td>410</td>\n",
       "    </tr>\n",
       "    <tr>\n",
       "      <th>Processed meat</th>\n",
       "      <td>1290</td>\n",
       "    </tr>\n",
       "    <tr>\n",
       "      <th rowspan=\"4\" valign=\"top\">Fruits and vegetables</th>\n",
       "      <th>Dried fruits</th>\n",
       "      <td>43</td>\n",
       "    </tr>\n",
       "    <tr>\n",
       "      <th>Fruits</th>\n",
       "      <td>278</td>\n",
       "    </tr>\n",
       "    <tr>\n",
       "      <th>Soups</th>\n",
       "      <td>94</td>\n",
       "    </tr>\n",
       "    <tr>\n",
       "      <th>Vegetables</th>\n",
       "      <td>609</td>\n",
       "    </tr>\n",
       "    <tr>\n",
       "      <th rowspan=\"4\" valign=\"top\">Milk and dairy products</th>\n",
       "      <th>Cheese</th>\n",
       "      <td>1437</td>\n",
       "    </tr>\n",
       "    <tr>\n",
       "      <th>Dairy desserts</th>\n",
       "      <td>330</td>\n",
       "    </tr>\n",
       "    <tr>\n",
       "      <th>Ice cream</th>\n",
       "      <td>110</td>\n",
       "    </tr>\n",
       "    <tr>\n",
       "      <th>Milk and yogurt</th>\n",
       "      <td>886</td>\n",
       "    </tr>\n",
       "    <tr>\n",
       "      <th rowspan=\"3\" valign=\"top\">Salty snacks</th>\n",
       "      <th>Appetizers</th>\n",
       "      <td>388</td>\n",
       "    </tr>\n",
       "    <tr>\n",
       "      <th>Nuts</th>\n",
       "      <td>44</td>\n",
       "    </tr>\n",
       "    <tr>\n",
       "      <th>Salty and fatty products</th>\n",
       "      <td>1</td>\n",
       "    </tr>\n",
       "    <tr>\n",
       "      <th rowspan=\"4\" valign=\"top\">Sugary snacks</th>\n",
       "      <th>Biscuits and cakes</th>\n",
       "      <td>909</td>\n",
       "    </tr>\n",
       "    <tr>\n",
       "      <th>Chocolate products</th>\n",
       "      <td>540</td>\n",
       "    </tr>\n",
       "    <tr>\n",
       "      <th>Pastries</th>\n",
       "      <td>104</td>\n",
       "    </tr>\n",
       "    <tr>\n",
       "      <th>Sweets</th>\n",
       "      <td>623</td>\n",
       "    </tr>\n",
       "    <tr>\n",
       "      <th>unknown</th>\n",
       "      <th>unknown</th>\n",
       "      <td>1713</td>\n",
       "    </tr>\n",
       "  </tbody>\n",
       "</table>\n",
       "</div>"
      ],
      "text/plain": [
       "                                                          code\n",
       "pnns_groups_1           pnns_groups_2                         \n",
       "Beverages               Artificially sweetened beverages    26\n",
       "                        Fruit juices                       283\n",
       "                        Fruit nectars                       61\n",
       "                        Non-sugared beverages              440\n",
       "                        Sweetened beverages                268\n",
       "Cereals and potatoes    Bread                              296\n",
       "                        Breakfast cereals                  178\n",
       "                        Cereals                            944\n",
       "                        Legumes                             99\n",
       "                        Potatoes                            30\n",
       "Composite foods         One-dish meals                    1844\n",
       "                        Pizza pies and quiche               90\n",
       "                        Sandwich                           241\n",
       "Fat and sauces          Dressings and sauces               612\n",
       "                        Fats                               307\n",
       "Fish Meat Eggs          Eggs                               113\n",
       "                        Fish and seafood                   818\n",
       "                        Meat                               410\n",
       "                        Processed meat                    1290\n",
       "Fruits and vegetables   Dried fruits                        43\n",
       "                        Fruits                             278\n",
       "                        Soups                               94\n",
       "                        Vegetables                         609\n",
       "Milk and dairy products Cheese                            1437\n",
       "                        Dairy desserts                     330\n",
       "                        Ice cream                          110\n",
       "                        Milk and yogurt                    886\n",
       "Salty snacks            Appetizers                         388\n",
       "                        Nuts                                44\n",
       "                        Salty and fatty products             1\n",
       "Sugary snacks           Biscuits and cakes                 909\n",
       "                        Chocolate products                 540\n",
       "                        Pastries                           104\n",
       "                        Sweets                             623\n",
       "unknown                 unknown                           1713"
      ]
     },
     "execution_count": 12,
     "metadata": {},
     "output_type": "execute_result"
    }
   ],
   "source": [
    "data[['pnns_groups_1', 'pnns_groups_2', 'code']].groupby(['pnns_groups_1', 'pnns_groups_2']).count()"
   ]
  },
  {
   "cell_type": "markdown",
   "metadata": {},
   "source": [
    "# Nutriment"
   ]
  },
  {
   "cell_type": "code",
   "execution_count": 13,
   "metadata": {
    "collapsed": false
   },
   "outputs": [],
   "source": [
    "subset= ['nutrition-score-uk_100g', \n",
    "         'sodium_100g',\n",
    "         'salt_100g',\n",
    "         'proteins_100g',\n",
    "         'energy_100g',\n",
    "         'saturated-fat_100g',\n",
    "         'sugars_100g',\n",
    "         'fat_100g',\n",
    "         'carbohydrates_100g']\n",
    "data2 = data.dropna(subset=subset)"
   ]
  },
  {
   "cell_type": "code",
   "execution_count": 14,
   "metadata": {
    "collapsed": false
   },
   "outputs": [],
   "source": [
    "n = len(data2)\n",
    "nutritionals_null = pd.Series()\n",
    "nutritionals_null_pct = pd.Series()\n",
    "for col in data2:\n",
    "    if \"_100g\" in col or 'additiv' in col:\n",
    "        p = np.sum(data2[col].isnull())\n",
    "        #print('{:40} : {:5} ({}%)'.format(col, p, p/n*100))\n",
    "        nutritionals_null[col] = p\n",
    "        nutritionals_null_pct[col] = p/n*100\n",
    "nutritionals = pd.DataFrame({'Null': nutritionals_null, 'NullPct': nutritionals_null_pct})"
   ]
  },
  {
   "cell_type": "code",
   "execution_count": 15,
   "metadata": {
    "collapsed": false
   },
   "outputs": [
    {
     "data": {
      "text/plain": [
       "12185"
      ]
     },
     "execution_count": 15,
     "metadata": {},
     "output_type": "execute_result"
    }
   ],
   "source": [
    "n"
   ]
  },
  {
   "cell_type": "code",
   "execution_count": 16,
   "metadata": {
    "collapsed": false
   },
   "outputs": [
    {
     "data": {
      "text/html": [
       "<div>\n",
       "<table border=\"1\" class=\"dataframe\">\n",
       "  <thead>\n",
       "    <tr style=\"text-align: right;\">\n",
       "      <th></th>\n",
       "      <th>Null</th>\n",
       "      <th>NullPct</th>\n",
       "    </tr>\n",
       "  </thead>\n",
       "  <tbody>\n",
       "    <tr>\n",
       "      <th>nutrition-score-uk_100g</th>\n",
       "      <td>0</td>\n",
       "      <td>0.000000</td>\n",
       "    </tr>\n",
       "    <tr>\n",
       "      <th>sodium_100g</th>\n",
       "      <td>0</td>\n",
       "      <td>0.000000</td>\n",
       "    </tr>\n",
       "    <tr>\n",
       "      <th>salt_100g</th>\n",
       "      <td>0</td>\n",
       "      <td>0.000000</td>\n",
       "    </tr>\n",
       "    <tr>\n",
       "      <th>proteins_100g</th>\n",
       "      <td>0</td>\n",
       "      <td>0.000000</td>\n",
       "    </tr>\n",
       "    <tr>\n",
       "      <th>energy_100g</th>\n",
       "      <td>0</td>\n",
       "      <td>0.000000</td>\n",
       "    </tr>\n",
       "    <tr>\n",
       "      <th>nutrition-score-fr_100g</th>\n",
       "      <td>0</td>\n",
       "      <td>0.000000</td>\n",
       "    </tr>\n",
       "    <tr>\n",
       "      <th>fat_100g</th>\n",
       "      <td>0</td>\n",
       "      <td>0.000000</td>\n",
       "    </tr>\n",
       "    <tr>\n",
       "      <th>saturated-fat_100g</th>\n",
       "      <td>0</td>\n",
       "      <td>0.000000</td>\n",
       "    </tr>\n",
       "    <tr>\n",
       "      <th>sugars_100g</th>\n",
       "      <td>0</td>\n",
       "      <td>0.000000</td>\n",
       "    </tr>\n",
       "    <tr>\n",
       "      <th>carbohydrates_100g</th>\n",
       "      <td>0</td>\n",
       "      <td>0.000000</td>\n",
       "    </tr>\n",
       "    <tr>\n",
       "      <th>additives_n</th>\n",
       "      <td>268</td>\n",
       "      <td>2.199426</td>\n",
       "    </tr>\n",
       "    <tr>\n",
       "      <th>additives</th>\n",
       "      <td>284</td>\n",
       "      <td>2.330735</td>\n",
       "    </tr>\n",
       "    <tr>\n",
       "      <th>additives_en</th>\n",
       "      <td>4807</td>\n",
       "      <td>39.450144</td>\n",
       "    </tr>\n",
       "    <tr>\n",
       "      <th>additives_tags</th>\n",
       "      <td>4807</td>\n",
       "      <td>39.450144</td>\n",
       "    </tr>\n",
       "    <tr>\n",
       "      <th>fiber_100g</th>\n",
       "      <td>4849</td>\n",
       "      <td>39.794830</td>\n",
       "    </tr>\n",
       "  </tbody>\n",
       "</table>\n",
       "</div>"
      ],
      "text/plain": [
       "                         Null    NullPct\n",
       "nutrition-score-uk_100g     0   0.000000\n",
       "sodium_100g                 0   0.000000\n",
       "salt_100g                   0   0.000000\n",
       "proteins_100g               0   0.000000\n",
       "energy_100g                 0   0.000000\n",
       "nutrition-score-fr_100g     0   0.000000\n",
       "fat_100g                    0   0.000000\n",
       "saturated-fat_100g          0   0.000000\n",
       "sugars_100g                 0   0.000000\n",
       "carbohydrates_100g          0   0.000000\n",
       "additives_n               268   2.199426\n",
       "additives                 284   2.330735\n",
       "additives_en             4807  39.450144\n",
       "additives_tags           4807  39.450144\n",
       "fiber_100g               4849  39.794830"
      ]
     },
     "execution_count": 16,
     "metadata": {},
     "output_type": "execute_result"
    }
   ],
   "source": [
    "nutritionals.sort_values('Null').head(15)"
   ]
  },
  {
   "cell_type": "markdown",
   "metadata": {},
   "source": [
    "# Reduced dataset"
   ]
  },
  {
   "cell_type": "code",
   "execution_count": 17,
   "metadata": {
    "collapsed": true
   },
   "outputs": [],
   "source": [
    "subset = [\n",
    "    'product_name',\n",
    "    'code_country',\n",
    "    'pnns_groups_1',\n",
    "    'pnns_groups_2',\n",
    "    'nutrition-score-uk_100g',\n",
    "    'nutrition-score-fr_100g',\n",
    "    'sodium_100g',\n",
    "    'salt_100g',\n",
    "    'proteins_100g',\n",
    "    'energy_100g',\n",
    "    'saturated-fat_100g',\n",
    "    'sugars_100g',\n",
    "    'fat_100g',\n",
    "    'carbohydrates_100g']"
   ]
  },
  {
   "cell_type": "code",
   "execution_count": 18,
   "metadata": {
    "collapsed": false
   },
   "outputs": [],
   "source": [
    "data.dropna(subset=subset, inplace=True)\n",
    "data = data[subset]"
   ]
  },
  {
   "cell_type": "code",
   "execution_count": 19,
   "metadata": {
    "collapsed": false
   },
   "outputs": [
    {
     "data": {
      "text/html": [
       "<div>\n",
       "<table border=\"1\" class=\"dataframe\">\n",
       "  <thead>\n",
       "    <tr style=\"text-align: right;\">\n",
       "      <th></th>\n",
       "      <th>product_name</th>\n",
       "      <th>code_country</th>\n",
       "      <th>pnns_groups_1</th>\n",
       "      <th>pnns_groups_2</th>\n",
       "      <th>nutrition-score-uk_100g</th>\n",
       "      <th>nutrition-score-fr_100g</th>\n",
       "      <th>sodium_100g</th>\n",
       "      <th>salt_100g</th>\n",
       "      <th>proteins_100g</th>\n",
       "      <th>energy_100g</th>\n",
       "      <th>saturated-fat_100g</th>\n",
       "      <th>sugars_100g</th>\n",
       "      <th>fat_100g</th>\n",
       "      <th>carbohydrates_100g</th>\n",
       "    </tr>\n",
       "  </thead>\n",
       "  <tbody>\n",
       "    <tr>\n",
       "      <th>2</th>\n",
       "      <td>30 Panach' Fruits</td>\n",
       "      <td>FRA</td>\n",
       "      <td>Sugary snacks</td>\n",
       "      <td>Biscuits and cakes</td>\n",
       "      <td>13.0</td>\n",
       "      <td>13.0</td>\n",
       "      <td>0.248031</td>\n",
       "      <td>0.63</td>\n",
       "      <td>5.0</td>\n",
       "      <td>1724.0</td>\n",
       "      <td>2.0</td>\n",
       "      <td>31.0</td>\n",
       "      <td>18.0</td>\n",
       "      <td>57.0</td>\n",
       "    </tr>\n",
       "    <tr>\n",
       "      <th>3</th>\n",
       "      <td>Marks &amp; Spencer Curiously Strong Mints</td>\n",
       "      <td>GBR</td>\n",
       "      <td>Beverages</td>\n",
       "      <td>Sweetened beverages</td>\n",
       "      <td>14.0</td>\n",
       "      <td>20.0</td>\n",
       "      <td>0.000000</td>\n",
       "      <td>0.00</td>\n",
       "      <td>0.9</td>\n",
       "      <td>1665.0</td>\n",
       "      <td>0.5</td>\n",
       "      <td>96.0</td>\n",
       "      <td>0.5</td>\n",
       "      <td>96.0</td>\n",
       "    </tr>\n",
       "    <tr>\n",
       "      <th>4</th>\n",
       "      <td>All Buter Belgian White Chocolate Chunk Cookies</td>\n",
       "      <td>GBR</td>\n",
       "      <td>Sugary snacks</td>\n",
       "      <td>Biscuits and cakes</td>\n",
       "      <td>26.0</td>\n",
       "      <td>26.0</td>\n",
       "      <td>0.393701</td>\n",
       "      <td>1.00</td>\n",
       "      <td>5.5</td>\n",
       "      <td>2172.0</td>\n",
       "      <td>17.0</td>\n",
       "      <td>33.5</td>\n",
       "      <td>29.1</td>\n",
       "      <td>58.4</td>\n",
       "    </tr>\n",
       "    <tr>\n",
       "      <th>5</th>\n",
       "      <td>Honey roast ham</td>\n",
       "      <td>GBR</td>\n",
       "      <td>Fish Meat Eggs</td>\n",
       "      <td>Processed meat</td>\n",
       "      <td>4.0</td>\n",
       "      <td>4.0</td>\n",
       "      <td>0.787402</td>\n",
       "      <td>2.00</td>\n",
       "      <td>24.5</td>\n",
       "      <td>564.0</td>\n",
       "      <td>0.7</td>\n",
       "      <td>2.9</td>\n",
       "      <td>2.0</td>\n",
       "      <td>4.3</td>\n",
       "    </tr>\n",
       "    <tr>\n",
       "      <th>6</th>\n",
       "      <td>Pur Soup' Velouté de légumes</td>\n",
       "      <td>FRA</td>\n",
       "      <td>Fruits and vegetables</td>\n",
       "      <td>Soups</td>\n",
       "      <td>2.0</td>\n",
       "      <td>2.0</td>\n",
       "      <td>0.295276</td>\n",
       "      <td>0.75</td>\n",
       "      <td>0.8</td>\n",
       "      <td>188.0</td>\n",
       "      <td>0.7</td>\n",
       "      <td>2.4</td>\n",
       "      <td>2.1</td>\n",
       "      <td>5.3</td>\n",
       "    </tr>\n",
       "  </tbody>\n",
       "</table>\n",
       "</div>"
      ],
      "text/plain": [
       "                                      product_name code_country  \\\n",
       "2                                30 Panach' Fruits          FRA   \n",
       "3           Marks & Spencer Curiously Strong Mints          GBR   \n",
       "4  All Buter Belgian White Chocolate Chunk Cookies          GBR   \n",
       "5                                  Honey roast ham          GBR   \n",
       "6                     Pur Soup' Velouté de légumes          FRA   \n",
       "\n",
       "           pnns_groups_1        pnns_groups_2  nutrition-score-uk_100g  \\\n",
       "2          Sugary snacks   Biscuits and cakes                     13.0   \n",
       "3              Beverages  Sweetened beverages                     14.0   \n",
       "4          Sugary snacks   Biscuits and cakes                     26.0   \n",
       "5         Fish Meat Eggs       Processed meat                      4.0   \n",
       "6  Fruits and vegetables                Soups                      2.0   \n",
       "\n",
       "   nutrition-score-fr_100g  sodium_100g  salt_100g  proteins_100g  \\\n",
       "2                     13.0     0.248031       0.63            5.0   \n",
       "3                     20.0     0.000000       0.00            0.9   \n",
       "4                     26.0     0.393701       1.00            5.5   \n",
       "5                      4.0     0.787402       2.00           24.5   \n",
       "6                      2.0     0.295276       0.75            0.8   \n",
       "\n",
       "   energy_100g  saturated-fat_100g  sugars_100g  fat_100g  carbohydrates_100g  \n",
       "2       1724.0                 2.0         31.0      18.0                57.0  \n",
       "3       1665.0                 0.5         96.0       0.5                96.0  \n",
       "4       2172.0                17.0         33.5      29.1                58.4  \n",
       "5        564.0                 0.7          2.9       2.0                 4.3  \n",
       "6        188.0                 0.7          2.4       2.1                 5.3  "
      ]
     },
     "execution_count": 19,
     "metadata": {},
     "output_type": "execute_result"
    }
   ],
   "source": [
    "data.head()"
   ]
  },
  {
   "cell_type": "code",
   "execution_count": 22,
   "metadata": {
    "collapsed": false
   },
   "outputs": [],
   "source": [
    "data.to_csv('final/static/data/data.csv', index=False)"
   ]
  },
  {
   "cell_type": "code",
   "execution_count": 25,
   "metadata": {
    "collapsed": false
   },
   "outputs": [
    {
     "data": {
      "text/plain": [
       "35"
      ]
     },
     "execution_count": 25,
     "metadata": {},
     "output_type": "execute_result"
    }
   ],
   "source": [
    "len(data.pnns_groups_2.unique())"
   ]
  },
  {
   "cell_type": "code",
   "execution_count": 21,
   "metadata": {
    "collapsed": false
   },
   "outputs": [
    {
     "name": "stdout",
     "output_type": "stream",
     "text": [
      "product_name              : 30 Panach' Fruits\n",
      "code_country              : FRA\n",
      "pnns_groups_1             : Sugary snacks\n",
      "pnns_groups_2             : Biscuits and cakes\n",
      "nutrition-score-uk_100g   : 13.0\n",
      "nutrition-score-fr_100g   : 13.0\n",
      "sodium_100g               : 0.248031496062992\n",
      "salt_100g                 : 0.63\n",
      "proteins_100g             : 5.0\n",
      "energy_100g               : 1724.0\n",
      "saturated-fat_100g        : 2.0\n",
      "sugars_100g               : 31.0\n",
      "fat_100g                  : 18.0\n",
      "carbohydrates_100g        : 57.0\n"
     ]
    }
   ],
   "source": [
    "for c in data:\n",
    "    print('{:25} : {}'.format(c, data.ix[2, c]))"
   ]
  },
  {
   "cell_type": "code",
   "execution_count": 238,
   "metadata": {
    "collapsed": false
   },
   "outputs": [
    {
     "data": {
      "text/plain": [
       "(12124, 14)"
      ]
     },
     "execution_count": 238,
     "metadata": {},
     "output_type": "execute_result"
    }
   ],
   "source": [
    "data.shape"
   ]
  }
 ],
 "metadata": {
  "kernelspec": {
   "display_name": "Python 3",
   "language": "python",
   "name": "python3"
  },
  "language_info": {
   "codemirror_mode": {
    "name": "ipython",
    "version": 3
   },
   "file_extension": ".py",
   "mimetype": "text/x-python",
   "name": "python",
   "nbconvert_exporter": "python",
   "pygments_lexer": "ipython3",
   "version": "3.5.1"
  }
 },
 "nbformat": 4,
 "nbformat_minor": 0
}
